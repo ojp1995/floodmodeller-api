{
 "cells": [
  {
   "attachments": {},
   "cell_type": "markdown",
   "metadata": {},
   "source": [
    "# Reading TUFLOW data \n",
    "In this script we are experimenting with reading in TUFLOW data to then load it into an xml file for FM."
   ]
  },
  {
   "cell_type": "code",
   "execution_count": null,
   "metadata": {},
   "outputs": [],
   "source": [
    "# loading modules:\n",
    "import pathlib \n",
    "import sys, mmap, glob, os\n",
    "import geopandas as gpd\n",
    "import pyproj, fiona\n",
    "import math\n",
    "import copy\n",
    "\n",
    "sys.path.append(r\"C:\\Users\\phillio\\Github\\Open_source\\floodmodeller-api\")"
   ]
  },
  {
   "cell_type": "code",
   "execution_count": null,
   "metadata": {},
   "outputs": [],
   "source": [
    "# loading .tgc file, will be useful for some data:\n",
    "# print(pathlib.Path.cwd())\n",
    "# tgcfile_path = pathlib.Path('C:/Users/phillio/OneDrive - Jacobs/Documents/TUFLOW_examples/Bootle/Bootle/TUFLOW/Model/BOOT_023.tgc')\n",
    "# with open(tgcfile_path, \"r\") as tgcfile:\n",
    "#     tgc_file = tgcfile.read()"
   ]
  },
  {
   "attachments": {},
   "cell_type": "markdown",
   "metadata": {},
   "source": [
    "# Reading the tgc file in a more robust way\n",
    "Here we will be reading the tgc file line by line in a more robust way. Will be attempting to follow the structure from ief, self._read file by reading line by line and setting something = something else. Will be more of a challenfe to remove the comments"
   ]
  },
  {
   "cell_type": "code",
   "execution_count": null,
   "metadata": {},
   "outputs": [],
   "source": [
    "tgcfile_path = pathlib.Path('C:/Users/phillio/OneDrive - Jacobs/Documents/TUFLOW_examples/Bootle/Bootle/TUFLOW/Model/BOOT_023.tgc')\n",
    "with open(tgcfile_path, \"r\") as tgcfile:\n",
    "    raw_data = [line.rstrip(\"\\n\") for line in tgcfile.readlines()]\n",
    "\n",
    "raw_data"
   ]
  },
  {
   "cell_type": "code",
   "execution_count": null,
   "metadata": {},
   "outputs": [],
   "source": [
    "#Now we need to clean the data\n",
    "# start by removing any comment only lines\n",
    "raw_data_copy = copy.deepcopy(raw_data)\n",
    "for line in raw_data_copy:\n",
    "    if line.lstrip().startswith(\"!\"):\n",
    "        raw_data.remove(line)\n",
    "\n",
    "raw_data_copy = copy.deepcopy(raw_data)\n",
    "for line in raw_data_copy:\n",
    "    if line.lstrip().startswith(\"! \"):\n",
    "        raw_data.remove(line)\n",
    "\n",
    "raw_data_copy = copy.deepcopy(raw_data)\n",
    "for line in raw_data_copy:\n",
    "    if len(line.strip()) == 0:\n",
    "        raw_data.remove(line)\n",
    "\n",
    "\n",
    "raw_data # printing the data"
   ]
  },
  {
   "cell_type": "code",
   "execution_count": null,
   "metadata": {},
   "outputs": [],
   "source": [
    "# now need to try and remove comments at the end of comments and empty space\n",
    "\n",
    "#let us now replace the \\t with empty spaces\n",
    "raw_data = [item.replace('\\t', '') for item in raw_data]\n",
    "\n",
    "raw_data\n",
    "\n"
   ]
  },
  {
   "cell_type": "code",
   "execution_count": null,
   "metadata": {},
   "outputs": [],
   "source": [
    "for line in range(len(raw_data)):\n",
    "    # print(line)\n",
    "    # print(raw_data[line])\n",
    "    # print(raw_data[line].partition('!'))\n",
    "    line_partition = raw_data[line].partition('!')\n",
    "    raw_data[line] = line_partition[0] # only taking information from the left habd side if the '!'\n",
    "    \n",
    "raw_data"
   ]
  },
  {
   "cell_type": "code",
   "execution_count": null,
   "metadata": {},
   "outputs": [],
   "source": [
    "# now we want to split the left hand side and the right hand side, I guess maybe we should remove any double spaces? We'll see how this is effected after this step\n",
    "tgc_data = []\n",
    "for line in raw_data:\n",
    "    # print(line)\n",
    "    if '==' in line:\n",
    "        prop, value = [itm.strip() for itm in line.split('==', 1)]\n",
    "\n",
    "        tgc_data.append((prop, value))\n",
    "\n",
    "tgc_data"
   ]
  },
  {
   "attachments": {},
   "cell_type": "markdown",
   "metadata": {},
   "source": [
    "# Success I think??\n",
    "\n",
    "We have now managed to get a list of tuples which have the values we want. These may need to be split in a more precise fashion or stored as different variable types but we should now be able to access ncols, nrows and step size"
   ]
  },
  {
   "cell_type": "code",
   "execution_count": null,
   "metadata": {},
   "outputs": [],
   "source": [
    "# first trying to isolate the grid size\n",
    "\n",
    "for line in range(len(tgc_data)):\n",
    "    if tgc_data[line][0] == 'Cell Size':\n",
    "        dx = float(tgc_data[line][1])\n",
    "    \n",
    "    if tgc_data[line][0] == 'Grid Size (X,Y)':\n",
    "        line_partition = tgc_data[line][1].partition(',')\n",
    "        n_X = float(line_partition[0])\n",
    "        n_Y = float(line_partition[2])\n",
    "\n",
    "(dx, n_X, n_Y)"
   ]
  },
  {
   "cell_type": "code",
   "execution_count": null,
   "metadata": {},
   "outputs": [],
   "source": [
    "tgc_data[2][1]\n"
   ]
  },
  {
   "attachments": {},
   "cell_type": "markdown",
   "metadata": {},
   "source": [
    "# Playing with the loc line to access the initial points"
   ]
  },
  {
   "cell_type": "code",
   "execution_count": null,
   "metadata": {},
   "outputs": [],
   "source": [
    "# loading in data for the orientation of domain line as a geopandas df\n",
    "try:\n",
    "    BOOT_L_015_file = pathlib.Path('C:/Users/phillio/OneDrive - Jacobs/Documents/TUFLOW_examples/Bootle/Bootle/TUFLOW/Model/gis/2d_loc_BOOT_L_015.shp')\n",
    "    BOOT_L_015_file.open('a')\n",
    "    df_BOOT_L_015 = gpd.read_file(BOOT_L_015_file)\n",
    "except Exception as e:\n",
    "    print(e)\n",
    "\n",
    "df_BOOT_L_015"
   ]
  },
  {
   "cell_type": "code",
   "execution_count": null,
   "metadata": {},
   "outputs": [],
   "source": [
    "# looking at the data\n",
    "df_BOOT_L_015.info()"
   ]
  },
  {
   "cell_type": "code",
   "execution_count": null,
   "metadata": {},
   "outputs": [],
   "source": [
    "df_BOOT_L_015.head()"
   ]
  },
  {
   "cell_type": "code",
   "execution_count": null,
   "metadata": {},
   "outputs": [],
   "source": [
    "a = df_BOOT_L_015.geometry[0]"
   ]
  },
  {
   "cell_type": "code",
   "execution_count": null,
   "metadata": {},
   "outputs": [],
   "source": [
    "dx = 2\n",
    "dy = 2\n",
    "math.degrees(math.atan(dx/dy))"
   ]
  },
  {
   "cell_type": "code",
   "execution_count": null,
   "metadata": {},
   "outputs": [],
   "source": []
  },
  {
   "attachments": {},
   "cell_type": "markdown",
   "metadata": {},
   "source": [
    "# Calculating $\\theta$, anti-clockwise from the horizontal x axis\n",
    "We will be breaking this down into a number of cases, similar to previous attempts, which will allow us to compute the angle with respect to the horizontal in a anticlockwise sense giving us the total angle between 0 and 360 degrees"
   ]
  },
  {
   "cell_type": "code",
   "execution_count": null,
   "metadata": {},
   "outputs": [],
   "source": [
    "x1, y1 = a.coords[0]\n",
    "x2, y2 = a.coords[-1]\n",
    "\n",
    "if y2 > y1: # restriction to the upper half plane\n",
    "    dy = y2 - y1\n",
    "\n",
    "    if x2 > x1:  #first qudarant \\theta \\in (0, 90)\n",
    "        dx = x2 - x1\n",
    "        theta = math.degrees( math.atan(dy/dx) )\n",
    "    elif x2 == x1: # y = x line\n",
    "        theta = 90\n",
    "    elif x2 < x1: #second quadrant\\theta \\in (90, 180)\n",
    "        dx = x1 - x2\n",
    "        theta_int = math.degrees( math.atan(dx/dy) )\n",
    "        theta = 90 + theta_int\n",
    "\n",
    "elif y2 == y1: # here we are already on the x axis, just depends on which side of the y=x line we are.\n",
    "\n",
    "    if x2> x1:\n",
    "        theta = 0\n",
    "    elif x2 < x1:\n",
    "        theta = 180\n",
    "\n",
    "elif y2 < y1: # restriction to the lower half plane\n",
    "    dy = y1 - y2 \n",
    "\n",
    "    if x2 < x1: # third qudrant \\theta \\in (180, 270)\n",
    "        dx = x1 - x2\n",
    "        theta_int = math.degrees( math.atan( dy/dx ) )\n",
    "        theta = 180 + theta_int\n",
    "\n",
    "    elif x2 == x1: # y = x line again\n",
    "        theta = 270\n",
    "    \n",
    "    elif x2 > x1:  # fourth quadrant, \\theta \\in (270, 360)\n",
    "        dx = x2 - x1\n",
    "        theta_int = math.degrees( math.atan(dy/dx) )\n",
    "        theta = 270 + theta_int\n",
    "\n",
    "theta"
   ]
  },
  {
   "cell_type": "code",
   "execution_count": null,
   "metadata": {},
   "outputs": [],
   "source": [
    "print(dx)\n",
    "print(dy)\n",
    "math.degrees( math.atan(dy/dx) )\n",
    "x2>x1\n",
    "print((x1, x2))\n"
   ]
  },
  {
   "attachments": {},
   "cell_type": "markdown",
   "metadata": {},
   "source": [
    "# Old code, may still be useful! "
   ]
  },
  {
   "cell_type": "code",
   "execution_count": null,
   "metadata": {},
   "outputs": [],
   "source": [
    "x1, y1 = a.coords[0]\n",
    "x2, y2 = a.coords[-1]\n",
    "\n",
    "# now we need to enter an if loop to see where the orientation of the line is and hence get the right angle\n",
    "if x2 > x1:\n",
    "    dx = x2 - x1\n",
    "    if y2 > y1:\n",
    "        dy = y2 - y1\n",
    "        theta = math.degrees( math.atan(dx/dy) )\n",
    "\n",
    "    elif y2 < y1:\n",
    "        dy = y1 - y2\n",
    "        theta = math.degrees( math.atan(dx/dy) )\n",
    "\n",
    "    elif y2 == y1:\n",
    "        dy = 0\n",
    "        theta = 90\n",
    "\n",
    "elif x2 < x1:\n",
    "    dx = x1 - x2\n",
    "    if y2 > y1:\n",
    "        dy = y2 - y1\n",
    "        theta = math.degrees( math.atan(dx/dy) )\n",
    "    elif y2 < y1:\n",
    "        dy = y1 - y2\n",
    "        theta = math.degrees( math.atan(dx/dy) )\n",
    "\n",
    "    elif y2 == y1:\n",
    "        dy = 0\n",
    "        theta = 90\n",
    "\n",
    "elif x2 == x1: \n",
    "    dx = 0\n",
    "    if y2 > y1:\n",
    "        dy = y2 - y1\n",
    "        theta = math.degrees( math.atan(dx/dy) )\n",
    "    elif y2 < y1:\n",
    "        dy = y1 - y2\n",
    "        theta = math.degrees( math.atan(dx/dy) )\n",
    "\n",
    "    elif y2 == y1:\n",
    "        dy = 0\n",
    "        raise Exception\n",
    "\n",
    "\n",
    "\n",
    "print(theta)\n",
    "print(dx)\n",
    "print(y1 - y2)"
   ]
  },
  {
   "attachments": {},
   "cell_type": "markdown",
   "metadata": {},
   "source": [
    "# $\\theta$ found!\n",
    "\n",
    "Now need to move onto finding the next point in the polygon. Following the point of the .loc line, which would correspond to the next point in the x direction. This will later be merged with the if loops above"
   ]
  },
  {
   "cell_type": "code",
   "execution_count": null,
   "metadata": {},
   "outputs": [],
   "source": [
    "def find_bbox_coords(df_loc_line, theta, n_X, n_Y):\n",
    "    \"\"\" \n",
    "    In this function we will be finding the coordinates for the boundary box.\n",
    "\n",
    "    Input parameters\n",
    "\n",
    "    Output parameters\n",
    "\n",
    "    Assumptions\n",
    "\n",
    "    \"\"\"\n",
    "\n",
    "    # We are going to manually sort through the cases of depending on the orientation of loc line\n",
    "    a = df_loc_line.geometry[0]\n",
    "    loc_x1, loc_y1 = a.coords[0]\n",
    "    loc_x2, loc_y2 = a.coords[-1]  # only needed if we embed angle derivation in here.\n",
    "    \n",
    "    p1 = (loc_x1, loc_y1)\n",
    "    if x2 > x1:\n",
    "        # dx = x2 - x1  # only needed if computing angel at the same time\n",
    "        if y2 > y1:\n",
    "            # dy = y2 - y1  # only needed if computing theta at the same time\n",
    "            # computing the coordinates for the second point, point from origin following the loc line\n",
    "            x2 = x1 + n_X*math.sin(math.radians(theta))\n",
    "            y2 = y1 + n_X*math.cos(math.radians(theta))\n",
    "            p2 = (x2, y2)  # second point as a tuple\n",
    "\n",
    "            # computing coordinates for third point, other direction from origin\n",
    "            phi = 90 - theta  # angle on the other side of the north/south and perpendicular to the loc line\n",
    "            x3 = x1 - n_Y*math.sin(math.radians(phi))\n",
    "            y3 = y1 + n_Y*math.cos(math.radians(phi))\n",
    "            p3 = (x3, y3)\n",
    "            # now computing the final point from the third point\n",
    "            x4 = x3 + n_X*math.sin(math.radians(theta))\n",
    "            y4 = y3 + n_X*math.cos(math.radians(theta))\n",
    "            p4 = (x4, y4)\n",
    "            return p2, p3, p4\n",
    "\n",
    "        elif y2 < y1:\n",
    "            print('case needs adding')\n",
    "        elif y2 == y1:\n",
    "            print('case needs adding')\n",
    "\n",
    "    elif x2 < x1:\n",
    "        print('case needs adding')\n",
    "\n",
    "\n",
    "\n"
   ]
  },
  {
   "cell_type": "code",
   "execution_count": null,
   "metadata": {},
   "outputs": [],
   "source": [
    "df_BOOT_L_015.plot()"
   ]
  },
  {
   "cell_type": "code",
   "execution_count": null,
   "metadata": {},
   "outputs": [],
   "source": [
    "df_BOOT_L_015.geometry.boundary.bounds"
   ]
  },
  {
   "attachments": {},
   "cell_type": "markdown",
   "metadata": {},
   "source": [
    "## Have access to the orientation line data!\n",
    "\n",
    "Question is now how can we compute the angle between this and the north south line, we should be able to take advatnage of some of the properties of the geopandas/shapely/fiona packages.\n",
    "\n",
    "Otherwise, we could construct a vector and then do the cross product between them to find the angle."
   ]
  },
  {
   "cell_type": "code",
   "execution_count": null,
   "metadata": {},
   "outputs": [],
   "source": []
  },
  {
   "attachments": {},
   "cell_type": "markdown",
   "metadata": {},
   "source": [
    "## Finding the bounds of the boundary box\n",
    "In this section we will be looking into the idea of finding the boundary box to find the lower left coordinates"
   ]
  },
  {
   "cell_type": "code",
   "execution_count": null,
   "metadata": {},
   "outputs": [],
   "source": [
    "try:\n",
    "    BOOT_L_023_file = pathlib.Path(r\"C:\\Users\\phillio\\OneDrive - Jacobs\\Documents\\TUFLOW_examples\\Bootle\\Bootle\\TUFLOW\\Model\\gis\\2d_bc_BOOT_R_023.shp\")\n",
    "    BOOT_L_023_file.open('a')\n",
    "    df_BOOT_L_023 = gpd.read_file(BOOT_L_023_file)\n",
    "except Exception as e:\n",
    "    print(e)\n",
    "\n",
    "df_BOOT_L_023"
   ]
  },
  {
   "cell_type": "code",
   "execution_count": null,
   "metadata": {},
   "outputs": [],
   "source": [
    "df_BOOT_L_023.plot()"
   ]
  },
  {
   "cell_type": "code",
   "execution_count": null,
   "metadata": {},
   "outputs": [],
   "source": [
    "try:\n",
    "    BOOT_L_017_file = pathlib.Path(r\"C:\\Users\\phillio\\OneDrive - Jacobs\\Documents\\TUFLOW_examples\\Bootle\\Bootle\\TUFLOW\\Model\\gis\\2d_code_BOOT_R_017.shp\")\n",
    "    BOOT_L_017_file.open('a')\n",
    "    df_BOOT_L_017 = gpd.read_file(BOOT_L_017_file)\n",
    "except Exception as e:\n",
    "    print(e)\n",
    "\n",
    "df_BOOT_L_017\n",
    "\n"
   ]
  },
  {
   "cell_type": "code",
   "execution_count": null,
   "metadata": {},
   "outputs": [],
   "source": [
    "df_BOOT_L_017.plot()"
   ]
  },
  {
   "attachments": {},
   "cell_type": "markdown",
   "metadata": {},
   "source": [
    "## Use df_BOOT_L_017 to construct boundary box\n",
    "I believe this is correct, it certainly looks like a good starting point to draw a box around"
   ]
  },
  {
   "cell_type": "code",
   "execution_count": null,
   "metadata": {},
   "outputs": [],
   "source": [
    "df_BOOT_L_017.geometry.boundary[0]"
   ]
  },
  {
   "cell_type": "code",
   "execution_count": null,
   "metadata": {},
   "outputs": [],
   "source": [
    "df_BOOT_L_017[\"area\"] = df_BOOT_L_017.area\n",
    "df_BOOT_L_017.plot()\n",
    "# df_BOOT_L_017.explore(\"area\", legend=False)\n",
    "df_BOOT_L_017.crs"
   ]
  },
  {
   "cell_type": "code",
   "execution_count": null,
   "metadata": {},
   "outputs": [],
   "source": [
    "# test_df_BOOT_17 = df_BOOT_L_017.to_crs(\"EPSG:4326\")\n",
    "# test_df_BOOT_17.plot()\n",
    "# test_df_BOOT_17.crs"
   ]
  },
  {
   "cell_type": "code",
   "execution_count": null,
   "metadata": {},
   "outputs": [],
   "source": [
    "df_BOOT_L_017.geometry.bounds"
   ]
  },
  {
   "cell_type": "code",
   "execution_count": null,
   "metadata": {},
   "outputs": [],
   "source": [
    "df_BOOT_L_017.geometry.bounds"
   ]
  },
  {
   "cell_type": "code",
   "execution_count": null,
   "metadata": {},
   "outputs": [],
   "source": [
    "\n",
    "df17_envelope = df_BOOT_L_017.envelope\n",
    "df17_envelope.geometry.plot()\n",
    "df17_envelope.geometry.bounds"
   ]
  },
  {
   "cell_type": "code",
   "execution_count": null,
   "metadata": {},
   "outputs": [],
   "source": [
    "xll = df17_envelope.geometry.bounds[\"minx\"]\n",
    "yll = df17_envelope.geometry.bounds[\"miny\"]\n",
    "\n",
    "print(xll)\n",
    "print(yll)"
   ]
  },
  {
   "attachments": {},
   "cell_type": "markdown",
   "metadata": {},
   "source": [
    "# Some success!\n",
    "\n",
    "We have now isolated the lower left coordinates!\n",
    "\n",
    "# Slight problem!!\n",
    "While we have successfully isolated the lower coordiantes, this is of the rotated dataframe, we need to rotate it back then perform this routine so the idea is here just not quite the correct execution.\n",
    "\n",
    "code we need to use is df.gemetry.rotate(angle) see documentation: https://geopandas.org/en/stable/docs/reference/api/geopandas.GeoSeries.rotate.html\n",
    "\n",
    "Still need the angle, then should be able to repeat the above process to find the correct boundary box.\n",
    "\n",
    "## maybe we can get away with this ...\n",
    "It depends where we are rotating above, but I feel that we are probably roating around the bottom corner?\n",
    "\n",
    "310279.406408\t487446.868549"
   ]
  },
  {
   "attachments": {},
   "cell_type": "markdown",
   "metadata": {},
   "source": [
    "# Old method, not working!\n",
    "\n",
    "# Reading the raw text file to access the grid spacing\n",
    "\n",
    "So we need to be able to read the following information:\n",
    "\n",
    " Grid Definition\n",
    "Grid Size (X,Y) == 2450, 1400\t\t\t\t\t\t\t\t\t\t\t\t\t\t\t\t\t\t\t\t\t\t! Grid dimensions (metres)\n",
    "Cell Size == 2\t\n",
    "\n",
    "Specifically the grid size and cell size\n",
    "\n",
    "First step is to try and read the numbers 2450, 1400\n",
    "\n",
    "Probably easier to attempt to read the grid size 2 first!\n",
    "\n",
    "## Reading grid size 2\n"
   ]
  },
  {
   "cell_type": "code",
   "execution_count": null,
   "metadata": {},
   "outputs": [],
   "source": [
    "# reading grid size 2\n",
    "type(tgc_file)\n",
    "# grid_size_test = tgc_file.split('Cell Size == ')\n",
    "# print(grid_size_test[0])\n",
    "\n",
    "#idea, partition around Grid Size (X,Y) == and ! Grid dimensions (metres)\n",
    "# then again around ! Grid dimensions (metres) and ! Cell size (metres)\n",
    "\n",
    "str_partition1 = tgc_file.partition('! Cell size (metres)')\n",
    "str_partition2 = str_partition1[0].partition('! Grid dimensions (metres)')\n",
    "str_partition3 = str_partition2[0].partition('! Grid Definition')\n",
    "\n",
    "# print(str_partition2[2])\n",
    "# print(str_partition3[2])\n",
    "\n",
    "str_partition4 = str_partition2[2].partition('Cell Size == ')\n",
    "str_partition5 = str_partition3[2].partition('Grid Size (X,Y) == ')\n",
    "str_partition6 = str_partition5[2].partition(', ')\n",
    "\n",
    "# print(str_partition6[0])\n",
    "# print(len(str_partition6[0]))\n",
    "\n",
    "# print(str_partition6[2])\n",
    "# len(str_partition6[2])\n",
    "\n",
    "# print(str_partition5[0])\n",
    "# print(str_partition5[1])\n",
    "# print(str_partition5[2])\n",
    "\n",
    "# test_1400 = float(str_partition6[2])\n",
    "# print(len(str_partition5[0]))\n",
    "# print(len(str_partition5[1]))\n",
    "# print(len(str_partition5[2]))\n",
    "\n",
    "# print(test_1400)\n",
    "# print(str_partition7[0])\n",
    "# print(len(str_partition7[0]))\n",
    "\n",
    "Grid_size = float(str_partition4[2])\n",
    "N_X = float(str_partition6[0])\n",
    "N_Y = float(str_partition6[2])\n",
    "\n",
    "print(Grid_size, N_X, N_Y)\n",
    "print(type(Grid_size)) \n",
    "print(type(N_X))\n",
    "print(type(N_Y))\n",
    "# print(Grid_size)\n",
    "# print(ncols_nrows)\n",
    "\n",
    "# type(Grid_size)\n",
    "# # type(ncols_nrows)\n",
    "# len(str_partition5[2])\n"
   ]
  }
 ],
 "metadata": {
  "kernelspec": {
   "display_name": "FM_API_TUFLOW",
   "language": "python",
   "name": "python3"
  },
  "language_info": {
   "codemirror_mode": {
    "name": "ipython",
    "version": 3
   },
   "file_extension": ".py",
   "mimetype": "text/x-python",
   "name": "python",
   "nbconvert_exporter": "python",
   "pygments_lexer": "ipython3",
   "version": "3.9.16"
  },
  "orig_nbformat": 4,
  "vscode": {
   "interpreter": {
    "hash": "ca78d48f8d49c6912402dd0e9549f851299f967325e7d099a84f23be0995ddc7"
   }
  }
 },
 "nbformat": 4,
 "nbformat_minor": 2
}
