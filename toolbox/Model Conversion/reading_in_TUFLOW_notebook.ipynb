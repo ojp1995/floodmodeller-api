{
 "cells": [
  {
   "attachments": {},
   "cell_type": "markdown",
   "metadata": {},
   "source": [
    "# Reading TUFLOW data \n",
    "In this script we are experimenting with reading in TUFLOW data to then load it into an xml file for FM."
   ]
  },
  {
   "cell_type": "code",
   "execution_count": null,
   "metadata": {},
   "outputs": [],
   "source": [
    "# loading modules:\n",
    "import pathlib \n",
    "import sys, mmap, glob, os\n",
    "import geopandas as gpd\n",
    "import pyproj, fiona\n",
    "\n",
    "sys.path.append(r\"C:\\Users\\phillio\\Github\\Open_source\\floodmodeller-api\")"
   ]
  },
  {
   "cell_type": "code",
   "execution_count": null,
   "metadata": {},
   "outputs": [],
   "source": [
    "# loading .tgc file, will be useful for some data:\n",
    "print(pathlib.Path.cwd())\n",
    "tgcfile = pathlib.Path('C:/Users/phillio/OneDrive - Jacobs/Documents/TUFLOW_examples/Bootle/Bootle/TUFLOW/Model/BOOT_023.tgc')\n",
    "tgcfile.open('a')"
   ]
  },
  {
   "cell_type": "code",
   "execution_count": null,
   "metadata": {},
   "outputs": [],
   "source": [
    "# loading in data for the orientation of domain line as a geopandas df\n",
    "try:\n",
    "    BOOT_L_015_file = pathlib.Path('C:/Users/phillio/OneDrive - Jacobs/Documents/TUFLOW_examples/Bootle/Bootle/TUFLOW/Model/gis/2d_loc_BOOT_L_015.shp')\n",
    "    BOOT_L_015_file.open('a')\n",
    "    df_BOOT_L_015 = gpd.read_file(BOOT_L_015_file)\n",
    "except Exception as e:\n",
    "    print(e)\n",
    "\n",
    "df_BOOT_L_015"
   ]
  },
  {
   "cell_type": "code",
   "execution_count": null,
   "metadata": {},
   "outputs": [],
   "source": [
    "# looking at the data\n",
    "df_BOOT_L_015.info()"
   ]
  }
 ],
 "metadata": {
  "kernelspec": {
   "display_name": "FM_API_TUFLOW",
   "language": "python",
   "name": "python3"
  },
  "language_info": {
   "name": "python",
   "version": "3.9.16"
  },
  "orig_nbformat": 4,
  "vscode": {
   "interpreter": {
    "hash": "ca78d48f8d49c6912402dd0e9549f851299f967325e7d099a84f23be0995ddc7"
   }
  }
 },
 "nbformat": 4,
 "nbformat_minor": 2
}
