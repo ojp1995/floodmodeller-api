{
 "cells": [
  {
   "attachments": {},
   "cell_type": "markdown",
   "metadata": {},
   "source": [
    "# Reading TUFLOW data \n",
    "In this script we are experimenting with reading in TUFLOW data to then load it into an xml file for FM."
   ]
  },
  {
   "cell_type": "code",
   "execution_count": null,
   "metadata": {},
   "outputs": [],
   "source": [
    "# loading modules:\n",
    "import pathlib \n",
    "import sys, mmap, glob, os\n",
    "import geopandas as gpd\n",
    "import pyproj, fiona\n",
    "\n",
    "sys.path.append(r\"C:\\Users\\phillio\\Github\\Open_source\\floodmodeller-api\")"
   ]
  },
  {
   "cell_type": "code",
   "execution_count": null,
   "metadata": {},
   "outputs": [],
   "source": [
    "# loading .tgc file, will be useful for some data:\n",
    "print(pathlib.Path.cwd())\n",
    "tgcfile = pathlib.Path('C:/Users/phillio/OneDrive - Jacobs/Documents/TUFLOW_examples/Bootle/Bootle/TUFLOW/Model/BOOT_023.tgc')\n",
    "tgcfile.open('a')"
   ]
  },
  {
   "cell_type": "code",
   "execution_count": null,
   "metadata": {},
   "outputs": [],
   "source": [
    "# loading in data for the orientation of domain line as a geopandas df\n",
    "try:\n",
    "    BOOT_L_015_file = pathlib.Path('C:/Users/phillio/OneDrive - Jacobs/Documents/TUFLOW_examples/Bootle/Bootle/TUFLOW/Model/gis/2d_loc_BOOT_L_015.shp')\n",
    "    BOOT_L_015_file.open('a')\n",
    "    df_BOOT_L_015 = gpd.read_file(BOOT_L_015_file)\n",
    "except Exception as e:\n",
    "    print(e)\n",
    "\n",
    "df_BOOT_L_015"
   ]
  },
  {
   "cell_type": "code",
   "execution_count": null,
   "metadata": {},
   "outputs": [],
   "source": [
    "# looking at the data\n",
    "df_BOOT_L_015.info()"
   ]
  },
  {
   "cell_type": "code",
   "execution_count": null,
   "metadata": {},
   "outputs": [],
   "source": [
    "df_BOOT_L_015.head()"
   ]
  },
  {
   "cell_type": "code",
   "execution_count": null,
   "metadata": {},
   "outputs": [],
   "source": [
    "df_BOOT_L_015.geometry"
   ]
  },
  {
   "cell_type": "code",
   "execution_count": null,
   "metadata": {},
   "outputs": [],
   "source": [
    "df_BOOT_L_015.plot()"
   ]
  },
  {
   "cell_type": "code",
   "execution_count": null,
   "metadata": {},
   "outputs": [],
   "source": [
    "df_BOOT_L_015.geometry.boundary.bounds"
   ]
  },
  {
   "attachments": {},
   "cell_type": "markdown",
   "metadata": {},
   "source": [
    "## Have access to the orientation line data!\n",
    "\n",
    "Question is now how can we compute the angle between this and the north south line, we should be able to take advatnage of some of the properties of the geopandas/shapely/fiona packages.\n",
    "\n",
    "Otherwise, we could construct a vector and then do the cross product between them to find the angle."
   ]
  },
  {
   "cell_type": "code",
   "execution_count": null,
   "metadata": {},
   "outputs": [],
   "source": []
  },
  {
   "attachments": {},
   "cell_type": "markdown",
   "metadata": {},
   "source": [
    "## Finding the bounds of the boundary box\n",
    "In this section we will be looking into the idea of finding the boundary box to find the lower left coordinates"
   ]
  },
  {
   "cell_type": "code",
   "execution_count": null,
   "metadata": {},
   "outputs": [],
   "source": [
    "try:\n",
    "    BOOT_L_023_file = pathlib.Path(r\"C:\\Users\\phillio\\OneDrive - Jacobs\\Documents\\TUFLOW_examples\\Bootle\\Bootle\\TUFLOW\\Model\\gis\\2d_bc_BOOT_R_023.shp\")\n",
    "    BOOT_L_023_file.open('a')\n",
    "    df_BOOT_L_023 = gpd.read_file(BOOT_L_023_file)\n",
    "except Exception as e:\n",
    "    print(e)\n",
    "\n",
    "df_BOOT_L_023"
   ]
  },
  {
   "cell_type": "code",
   "execution_count": null,
   "metadata": {},
   "outputs": [],
   "source": [
    "df_BOOT_L_023.plot()"
   ]
  },
  {
   "cell_type": "code",
   "execution_count": null,
   "metadata": {},
   "outputs": [],
   "source": [
    "try:\n",
    "    BOOT_L_017_file = pathlib.Path(r\"C:\\Users\\phillio\\OneDrive - Jacobs\\Documents\\TUFLOW_examples\\Bootle\\Bootle\\TUFLOW\\Model\\gis\\2d_code_BOOT_R_017.shp\")\n",
    "    BOOT_L_017_file.open('a')\n",
    "    df_BOOT_L_017 = gpd.read_file(BOOT_L_017_file)\n",
    "except Exception as e:\n",
    "    print(e)\n",
    "\n",
    "df_BOOT_L_017\n",
    "\n"
   ]
  },
  {
   "cell_type": "code",
   "execution_count": null,
   "metadata": {},
   "outputs": [],
   "source": [
    "df_BOOT_L_017.plot()"
   ]
  },
  {
   "attachments": {},
   "cell_type": "markdown",
   "metadata": {},
   "source": [
    "## Use df_BOOT_L_017 to construct boundary box\n",
    "I believe this is correct, it certainly looks like a good starting point to draw a box around"
   ]
  },
  {
   "cell_type": "code",
   "execution_count": null,
   "metadata": {},
   "outputs": [],
   "source": [
    "df_BOOT_L_017.geometry.boundary[0]"
   ]
  },
  {
   "cell_type": "code",
   "execution_count": null,
   "metadata": {},
   "outputs": [],
   "source": [
    "df_BOOT_L_017[\"area\"] = df_BOOT_L_017.area\n",
    "df_BOOT_L_017.plot()\n",
    "# df_BOOT_L_017.explore(\"area\", legend=False)\n",
    "df_BOOT_L_017.crs"
   ]
  },
  {
   "cell_type": "code",
   "execution_count": null,
   "metadata": {},
   "outputs": [],
   "source": [
    "# test_df_BOOT_17 = df_BOOT_L_017.to_crs(\"EPSG:4326\")\n",
    "# test_df_BOOT_17.plot()\n",
    "# test_df_BOOT_17.crs"
   ]
  },
  {
   "cell_type": "code",
   "execution_count": null,
   "metadata": {},
   "outputs": [],
   "source": [
    "df_BOOT_L_017.geometry.bounds"
   ]
  },
  {
   "cell_type": "code",
   "execution_count": null,
   "metadata": {},
   "outputs": [],
   "source": [
    "df_BOOT_L_017.geometry.bounds['minx']"
   ]
  },
  {
   "cell_type": "code",
   "execution_count": null,
   "metadata": {},
   "outputs": [],
   "source": [
    "\n",
    "df17_envelope = df_BOOT_L_017.envelope\n",
    "df17_envelope.geometry.plot()\n",
    "df17_envelope.geometry.bounds"
   ]
  },
  {
   "cell_type": "code",
   "execution_count": null,
   "metadata": {},
   "outputs": [],
   "source": [
    "xll = df17_envelope.geometry.bounds[\"minx\"]\n",
    "yll = df17_envelope.geometry.bounds[\"miny\"]\n",
    "\n",
    "print(xll)\n",
    "print(yll)"
   ]
  },
  {
   "attachments": {},
   "cell_type": "markdown",
   "metadata": {},
   "source": [
    "# Some success!\n",
    "\n",
    "We have now isolated the lower left coordinates!\n",
    "\n",
    "# Slight problem!!\n",
    "While we have successfully isolated the lower coordiantes, this is of the rotated dataframe, we need to rotate it back then perform this routine so the idea is here just not quite the correct execution.\n",
    "\n",
    "code we need to use is df.gemetry.rotate(angle) see documentation: https://geopandas.org/en/stable/docs/reference/api/geopandas.GeoSeries.rotate.html\n",
    "\n",
    "Still need the angle, then should be able to repeat the above process to find the correct boundary box.\n",
    "\n",
    "## maybe we can get away with this ...\n",
    "It depends where we are rotating above, but I feel that we are probably roating around the bottom corner?\n",
    "\n",
    "310279.406408\t487446.868549"
   ]
  }
 ],
 "metadata": {
  "kernelspec": {
   "display_name": "FM_API_TUFLOW",
   "language": "python",
   "name": "python3"
  },
  "language_info": {
   "codemirror_mode": {
    "name": "ipython",
    "version": 3
   },
   "file_extension": ".py",
   "mimetype": "text/x-python",
   "name": "python",
   "nbconvert_exporter": "python",
   "pygments_lexer": "ipython3",
   "version": "3.9.16"
  },
  "orig_nbformat": 4,
  "vscode": {
   "interpreter": {
    "hash": "ca78d48f8d49c6912402dd0e9549f851299f967325e7d099a84f23be0995ddc7"
   }
  }
 },
 "nbformat": 4,
 "nbformat_minor": 2
}
